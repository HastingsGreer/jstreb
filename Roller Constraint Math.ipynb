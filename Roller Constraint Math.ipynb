{
 "cells": [
  {
   "cell_type": "code",
   "execution_count": 2,
   "metadata": {},
   "outputs": [
    {
     "data": {
      "text/plain": [
       "(xref, yref, href, vref, x, y, h, v, t)"
      ]
     },
     "execution_count": 2,
     "metadata": {},
     "output_type": "execute_result"
    }
   ],
   "source": [
    "var(\"xref yref href vref x y h v t\")"
   ]
  },
  {
   "cell_type": "code",
   "execution_count": 8,
   "metadata": {},
   "outputs": [],
   "source": [
    "xref_ = xref + t * href\n",
    "yref_ = yref + t * vref\n",
    "\n",
    "x_ = x + t * h\n",
    "y_ = y + t * v\n",
    "\n",
    "leng = sqrt(xref_^2 + yref_^2)\n",
    "\n",
    "xref_norm = xref_ / leng\n",
    "yref_norm = yref_ / leng\n",
    "\n",
    "proj_amt = (xref_ * x_ + yref_ * y_) / (xref_ * xref_ + yref_ * yref_)\n",
    "\n",
    "\n",
    "err_x = x_ \n",
    "err_y = y_ \n",
    "error = xref_norm * err_y - yref_norm * err_x"
   ]
  },
  {
   "cell_type": "code",
   "execution_count": 9,
   "metadata": {},
   "outputs": [
    {
     "data": {
      "image/png": "[encoded data removed]",
      "text/plain": [
       "Graphics object consisting of 1 graphics primitive"
      ]
     },
     "execution_count": 9,
     "metadata": {},
     "output_type": "execute_result"
    }
   ],
   "source": [
    "plot(derivative(error, t, 1).substitute(yeet))"
   ]
  },
  {
   "cell_type": "code",
   "execution_count": 45,
   "metadata": {},
   "outputs": [
    {
     "data": {
      "text/plain": [
       "(2*href*x*xref^2 - 2*h*xref^3 - vref*xref^2*y + 3*vref*x*xref*yref - 2*v*xref^2*yref + 3*href*xref*y*yref - href*x*yref^2 - 2*h*xref*yref^2 + 2*vref*y*yref^2 - 2*v*yref^3)*(vref*xref - href*yref)/(xref^2 + yref^2)^(5/2)"
      ]
     },
     "execution_count": 45,
     "metadata": {},
     "output_type": "execute_result"
    }
   ],
   "source": [
    "derivative(error, t, 2).substitute(t == 0).simplify_full().factor()"
   ]
  },
  {
   "cell_type": "code",
   "execution_count": 46,
   "metadata": {},
   "outputs": [
    {
     "name": "stdout",
     "output_type": "stream",
     "text": [
      "(x*xref*yref + y*yref^2)/(xref^2 + yref^2)^(3/2)\n",
      "-(x*xref^2 + xref*y*yref)/(xref^2 + yref^2)^(3/2)\n",
      "-(x*xref - xref^2 + y*yref - yref^2)*yref/(xref^2 + yref^2)^(3/2)\n",
      "(x*xref - xref^2 + y*yref - yref^2)*xref/(xref^2 + yref^2)^(3/2)\n",
      "-yref/sqrt(xref^2 + yref^2)\n",
      "xref/sqrt(xref^2 + yref^2)\n"
     ]
    }
   ],
   "source": [
    "print(derivative(error, xref).substitute(t == 0).simplify_full())\n",
    "print(derivative(error, yref).substitute(t == 0).simplify_full())\n",
    "print((-derivative(error, x) - derivative(error, xref)).substitute(t == 0).simplify_full().factor())\n",
    "print((-derivative(error, y) - derivative(error, yref)).substitute(t == 0).simplify_full().factor())\n",
    "print(derivative(error, x).substitute(t == 0).simplify_full())\n",
    "print(derivative(error, y).substitute(t == 0).simplify_full())"
   ]
  },
  {
   "cell_type": "code",
   "execution_count": 17,
   "metadata": {},
   "outputs": [
    {
     "name": "stdout",
     "output_type": "stream",
     "text": [
      "-(y*yref^2 - yref^3 + (x*xref - xref^2)*yref)*sqrt(xref^2 + yref^2)/(xref^4 + 2*xref^2*yref^2 + yref^4)\n"
     ]
    }
   ],
   "source": [
    "print((-derivative(error, x) - derivative(error, xref)).substitute(t == 0).simplify_full())\n"
   ]
  },
  {
   "cell_type": "code",
   "execution_count": 20,
   "metadata": {},
   "outputs": [
    {
     "data": {
      "text/plain": [
       "sqrt(xref^2 + yref^2)/(xref^4 + 2*xref^2*yref^2 + yref^4)"
      ]
     },
     "execution_count": 20,
     "metadata": {},
     "output_type": "execute_result"
    }
   ],
   "source": [
    "(sqrt(xref^2 + yref^2)/(xref^4 + 2*xref^2*yref^2 + yref^4)).simplify_full()"
   ]
  },
  {
   "cell_type": "code",
   "execution_count": 5,
   "metadata": {},
   "outputs": [],
   "source": [
    "yeet = (xref == 1,\n",
    " href == 1,\n",
    " vref == 1,\n",
    " x == 0.500000000000000,\n",
    " h == 0,\n",
    " v == 0.500000000000000,\n",
    "       yref == 0, y == 0)"
   ]
  },
  {
   "cell_type": "code",
   "execution_count": 139,
   "metadata": {},
   "outputs": [
    {
     "data": {
      "text/plain": [
       "(x*xref*yref + y*yref^2)/(xref^2 + yref^2)^(3/2)"
      ]
     },
     "execution_count": 139,
     "metadata": {},
     "output_type": "execute_result"
    }
   ],
   "source": [
    "derivative(error, xref).substitute(t == 0).simplify_full()"
   ]
  },
  {
   "cell_type": "code",
   "execution_count": 22,
   "metadata": {},
   "outputs": [
    {
     "data": {
      "text/plain": [
       "x == x"
      ]
     },
     "execution_count": 22,
     "metadata": {},
     "output_type": "execute_result"
    }
   ],
   "source": [
    "(x == x).simplify_full()"
   ]
  },
  {
   "cell_type": "code",
   "execution_count": 36,
   "metadata": {},
   "outputs": [
    {
     "name": "stdout",
     "output_type": "stream",
     "text": [
      "1\n"
     ]
    }
   ],
   "source": [
    "expr = (sqrt(xref^2 + yref^2)/(xref^4 + 2*xref^2*yref^2 + yref^4) == (xref^2 + yref^2)^(-3/2))\n",
    "expr *= 1/sqrt(xref^2 + yref^2)\n",
    "\n",
    "expr *= (xref^2 + yref^2)\n",
    "\n",
    "expr *= (xref^2 + yref^2)\n",
    "\n",
    "\n",
    "expr.simplify_full()\n",
    "print(expr.left().factor())"
   ]
  },
  {
   "cell_type": "code",
   "execution_count": 41,
   "metadata": {},
   "outputs": [],
   "source": [
    "a=(derivative(error, xref).substitute(t == 0).simplify_full())\n",
    "b=(derivative(error, yref).substitute(t == 0).simplify_full())\n",
    "c=((-derivative(error, x) - derivative(error, xref)).substitute(t == 0).simplify_full().factor())\n",
    "d=((-derivative(error, y) - derivative(error, yref)).substitute(t == 0).simplify_full().factor())\n",
    "e=(derivative(error, x).substitute(t == 0).simplify_full())\n",
    "f=(derivative(error, y).substitute(t == 0).simplify_full())"
   ]
  },
  {
   "cell_type": "code",
   "execution_count": 43,
   "metadata": {},
   "outputs": [
    {
     "data": {
      "text/plain": [
       "0"
      ]
     },
     "execution_count": 43,
     "metadata": {},
     "output_type": "execute_result"
    }
   ],
   "source": [
    "(a * d - b * c).simplify_full()"
   ]
  },
  {
   "cell_type": "code",
   "execution_count": 58,
   "metadata": {},
   "outputs": [
    {
     "data": {
      "text/plain": [
       "(v*x - h*y)^2/(x^2 + y^2)^(3/2)"
      ]
     },
     "execution_count": 58,
     "metadata": {},
     "output_type": "execute_result"
    }
   ],
   "source": [
    "(derivative(sqrt(x_^2 + y_^2), t, 2).substitute(t == 0).simplify_full().factor()).simplify_full().factor()"
   ]
  },
  {
   "cell_type": "code",
   "execution_count": null,
   "metadata": {},
   "outputs": [],
   "source": []
  }
 ],
 "metadata": {
  "kernelspec": {
   "display_name": "SageMath 9.1",
   "language": "sage",
   "name": "sagemath"
  },
  "language_info": {
   "codemirror_mode": {
    "name": "ipython",
    "version": 3
   },
   "file_extension": ".py",
   "mimetype": "text/x-python",
   "name": "python",
   "nbconvert_exporter": "python",
   "pygments_lexer": "ipython3",
   "version": "3.7.8"
  }
 },
 "nbformat": 4,
 "nbformat_minor": 2
}
